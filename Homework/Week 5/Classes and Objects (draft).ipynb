{
 "cells": [
  {
   "cell_type": "markdown",
   "metadata": {},
   "source": [
    "# Object-Oriented Programming\n",
    "\n",
    "Object-oriented programming (OOP) is a means of software design in which the programmer organizes a set of functions which act on a specific data type, or \"object\". OOP is useful in part because it creates abstraction barriers between the use and implementation of data. It also allows one to write a program in terms of interactions between several independent agents. "
   ]
  },
  {
   "cell_type": "markdown",
   "metadata": {},
   "source": [
    "## Classes and Objects"
   ]
  },
  {
   "cell_type": "markdown",
   "metadata": {},
   "source": [
    "#### Problem 1. Gone Fishing\n",
    "\n",
    "First, try to guess what the following code will print to the command line. Run the code, and note any differences you observe between class and object attributes, and how/whether changing one affects the other."
   ]
  },
  {
   "cell_type": "code",
   "execution_count": null,
   "metadata": {},
   "outputs": [],
   "source": [
    "class Fisherman:\n",
    "    fishes = 0\n",
    "\n",
    "    def __init__(self):\n",
    "        self.fishes = 0\n",
    "\n",
    "    def fish(self):\n",
    "        self.fishes += 1\n",
    "\n",
    "tom = Fisherman()\n",
    "tom.fish()\n",
    "tom.fish()\n",
    "print(tom.fishes)\n",
    "print(Fisherman.fishes)\n",
    "\n",
    "print('\\n')\n",
    "\n",
    "Fisherman.fishes += 1\n",
    "florian_cloud_de_bounevialle_o_malley_armstrong = Fisherman()\n",
    "print(florian_cloud_de_bounevialle_o_malley_armstrong.fishes)\n",
    "print(Fisherman.fishes)\n",
    "print(tom.fishes)"
   ]
  },
  {
   "cell_type": "markdown",
   "metadata": {},
   "source": [
    "#### Problem 2. Angular Velocity\n",
    "\n",
    "Below is an example of a basic class whose objects represent planets. Each Planet object has a mass, radius, and rotational period.\n",
    "\n",
    "Write a method (class function) to return the magnitude of rotational angular momentum of any planet, in whatever units were specified during initialization (object creation). The moment of inertia of a solid sphere of mass M and radius R is 2MR^2/5."
   ]
  },
  {
   "cell_type": "code",
   "execution_count": 9,
   "metadata": {},
   "outputs": [],
   "source": [
    "from math import pi\n",
    "\n",
    "class Planet:\n",
    "\n",
    "    def __init__(self, mass, radius, period):\n",
    "        self.mass = mass\n",
    "        self.radius = radius\n",
    "        self.period = period\n",
    "\n",
    "    def angular_momentum(self):\n",
    "        \"\"\" Calculates the angular momentum of the planet.\n",
    "\n",
    "        >>> earth = Planet(1.0, 1.0, 1.0)\n",
    "        >>> earth.angular_momentum()\n",
    "        2.5132741228718345\n",
    "        \"\"\"\n",
    "        # YOUR CODE HERE"
   ]
  },
  {
   "cell_type": "markdown",
   "metadata": {},
   "source": [
    "#### Problem 3. Mass Production\n",
    "\n",
    "Now write functions to calculate the total mass and highest density of a list of planets."
   ]
  },
  {
   "cell_type": "code",
   "execution_count": 10,
   "metadata": {},
   "outputs": [],
   "source": [
    "def total_mass(planets):\n",
    "    \"\"\" Takes a list of planets and returns the total mass.\n",
    "\n",
    "    >>> jupiter = Planet(317.8, 11.2, 0.414)\n",
    "    >>> saturn = Planet(95.2, 9.45, 0.446)\n",
    "    >>> big_bois = [jupiter, saturn]\n",
    "    >>> total_mass(big_bois)\n",
    "    413.0\n",
    "    \"\"\"\n",
    "    return ## INSERT CODE HERE ##\n",
    "\n",
    "def max_density(planets):\n",
    "    \"\"\" Takes a list of planets and returns the highest density.\n",
    "\n",
    "    >>> avg_density([Planet(1.0, 1.0, 1.0), Planet(2.0, 2.0, 2.0), Planet(3.0, 3.0, 3.0)])\n",
    "    0.23873241463784303\n",
    "    \"\"\"\n",
    "    return ## INSERT CODE HERE ##"
   ]
  },
  {
   "cell_type": "markdown",
   "metadata": {},
   "source": [
    "## Inheritance\n",
    "\n",
    "#### Problem 4. The Fault in Our Stars\n",
    "\n",
    "Assume you run the following code:"
   ]
  },
  {
   "cell_type": "code",
   "execution_count": 6,
   "metadata": {},
   "outputs": [],
   "source": [
    "class Star:\n",
    "    points = 0\n",
    "\n",
    "    def brightness(self, color):\n",
    "        print(color, self.points)\n",
    "\n",
    "    def __str__(self):\n",
    "        return 'Twinkle twinkle'\n",
    "\n",
    "class Supergiant(Star):\n",
    "    points = 50\n",
    "\n",
    "    def __init__(self):\n",
    "        self.points += 50\n",
    "\n",
    "    def brightness(self, color):\n",
    "        if points < 100:\n",
    "            print(Star().brightness(color))\n",
    "        else:\n",
    "            Star.brightness(self, color)\n",
    "\n",
    "def probe(s):\n",
    "    s.points += 1\n",
    "    sirius.points += 10\n",
    "    print(s().points)\n",
    "\n",
    "sirius = Star()\n",
    "sirius.points = 25\n",
    "telescope = sirius.brightness\n",
    "points = 75"
   ]
  },
  {
   "cell_type": "markdown",
   "metadata": {},
   "source": [
    "Write the output displayed when each expression is evaluated:"
   ]
  },
  {
   "cell_type": "code",
   "execution_count": null,
   "metadata": {},
   "outputs": [],
   "source": [
    "Supergiant().points       # INSERT OUTPUT HERE\n",
    "telescope(sirius)         # INSERT OUTPUT HERE\n",
    "Supergiant().brightness() # INSERT OUTPUT HERE\n",
    "probe(Star)               # INSERT OUTPUT HERE"
   ]
  }
 ],
 "metadata": {
  "kernelspec": {
   "display_name": "Python 3",
   "language": "python",
   "name": "python3"
  },
  "language_info": {
   "codemirror_mode": {
    "name": "ipython",
    "version": 3
   },
   "file_extension": ".py",
   "mimetype": "text/x-python",
   "name": "python",
   "nbconvert_exporter": "python",
   "pygments_lexer": "ipython3",
   "version": "3.7.2"
  }
 },
 "nbformat": 4,
 "nbformat_minor": 2
}
