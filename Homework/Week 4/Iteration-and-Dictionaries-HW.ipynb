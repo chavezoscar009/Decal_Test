{
 "cells": [
  {
   "cell_type": "markdown",
   "metadata": {},
   "source": [
    "## Remembering Problems"
   ]
  },
  {
   "cell_type": "markdown",
   "metadata": {},
   "source": [
    "### Problem 1"
   ]
  },
  {
   "cell_type": "markdown",
   "metadata": {},
   "source": [
    "In the cell below, write a for loop which prints the following:\n",
    "\n",
    "1\n",
    "\n",
    "2\n",
    "\n",
    "\n",
    "3\n",
    "\n",
    "4\n",
    "\n",
    "5"
   ]
  },
  {
   "cell_type": "code",
   "execution_count": 1,
   "metadata": {},
   "outputs": [
    {
     "data": {
      "text/plain": [
       "'*** YOUR CODE HERE ***'"
      ]
     },
     "execution_count": 1,
     "metadata": {},
     "output_type": "execute_result"
    }
   ],
   "source": [
    "### YOUR CODE HERE ###"
   ]
  },
  {
   "cell_type": "markdown",
   "metadata": {},
   "source": [
    "### Problem 2"
   ]
  },
  {
   "cell_type": "markdown",
   "metadata": {},
   "source": [
    "Now using the same logic, write a list comprehension which creates the following:\n",
    "    [1, 2, 3, 4, 5]"
   ]
  },
  {
   "cell_type": "code",
   "execution_count": 2,
   "metadata": {},
   "outputs": [
    {
     "data": {
      "text/plain": [
       "'*** YOUR CODE HERE ***'"
      ]
     },
     "execution_count": 2,
     "metadata": {},
     "output_type": "execute_result"
    }
   ],
   "source": [
    "### YOUR CODE HERE ###"
   ]
  },
  {
   "cell_type": "markdown",
   "metadata": {},
   "source": [
    "## Understanding Problems"
   ]
  },
  {
   "cell_type": "markdown",
   "metadata": {},
   "source": [
    "### Problem 1"
   ]
  },
  {
   "cell_type": "code",
   "execution_count": 3,
   "metadata": {
    "collapsed": true
   },
   "outputs": [],
   "source": [
    "def num_keys(dict):\n",
    "    \"\"\" Returns a list of all the values in the dictionary\n",
    "    \n",
    "    >>> fruits = {'apple': 1, \n",
    "                  'orange': 2, \n",
    "                  'grape': 3}\n",
    "    >>> num_keys(fruit)\n",
    "    [1, 2, 3]\n",
    "    \n",
    "    >>> catch_phrases = {'Oscar': 'Fierooo', \n",
    "                        'Christine': 'Yike',\n",
    "                        'Hunter': 'No worries'}\n",
    "    >>> num_keys(catch_phrases)\n",
    "    ['Fierooo',  'Yike', 'No worries']\n",
    "    \"\"\"\n",
    "    \n",
    "    ### YOUR CODE HERE ###\n",
    "    \n",
    "    "
   ]
  },
  {
   "cell_type": "markdown",
   "metadata": {},
   "source": [
    "### Problem 2"
   ]
  },
  {
   "cell_type": "code",
   "execution_count": 7,
   "metadata": {
    "collapsed": true
   },
   "outputs": [],
   "source": [
    "def make_dict(keys, values):\n",
    "    ''' Given a list of keys and a list of values, create a dictionary which\n",
    "    pairs keys and values element-wise. \n",
    "    \n",
    "    >>> make_dict(['Earth', 'Jupiter', 'Mars'], [10, 6, 7])\n",
    "    {'Earth': 10, 'Jupiter': 6, 'Mars': 7}\n",
    "    \n",
    "    >>> make_dict(['Cal', 'UCLA', 'Davis'], ['Bears', 'Bruins', 'Aggies'])\n",
    "    {'Cal': 'Bears', 'UCLA': 'Bruins', 'Davis': 'Aggies'}\n",
    "    '''\n",
    "    \n",
    "    ### YOUR CODE HERE ###"
   ]
  },
  {
   "cell_type": "markdown",
   "metadata": {},
   "source": [
    "## Application Problems"
   ]
  },
  {
   "cell_type": "markdown",
   "metadata": {},
   "source": [
    "### What's in a Name?\n",
    "That which we call a rose by any other name would smell just as sweet.\n",
    "\n",
    "Hint: Strings can be iterated over the same way that lists can!"
   ]
  },
  {
   "cell_type": "code",
   "execution_count": 5,
   "metadata": {
    "collapsed": true
   },
   "outputs": [],
   "source": [
    "def letters_in_name(name):\n",
    "    \"\"\"Returns a list of unique letters in a name (string).\n",
    "    \n",
    "    >>> letters_in_name(\"oscar\")\n",
    "    ['o', 's', 'c', 'a', 'r']\n",
    "    >>> letters_in_name(\"christine\")\n",
    "    ['c', 'h', 'r', 'i', 's', 't', 'n', 'e']\n",
    "    >>> letters_in_name(\"carl sagan\")\n",
    "    ['c', 'a', 'r', 'l', 's', 'g', 'n']\n",
    "    \"\"\"\n",
    "    \n",
    "    ### YOUR CODE HERE ###\n"
   ]
  },
  {
   "cell_type": "markdown",
   "metadata": {},
   "source": [
    "### Squares"
   ]
  },
  {
   "cell_type": "code",
   "execution_count": null,
   "metadata": {
    "collapsed": true
   },
   "outputs": [],
   "source": [
    "def squares(s):\n",
    "    \"\"\"Returns a new list containing square roots of the elements of the\n",
    "    original list that are perfect squares.\n",
    "\n",
    "    >>> seq = [8, 49, 8, 9, 2, 1, 100, 102]\n",
    "    >>> squares(seq)\n",
    "    [7, 3, 1, 10]\n",
    "    >>> seq = [500, 30]\n",
    "    >>> squares(seq)\n",
    "    []\n",
    "    \"\"\"\n",
    "    return [### YOUR CODE HERE ###]\n",
    "    "
   ]
  }
 ],
 "metadata": {
  "kernelspec": {
   "display_name": "Python 3",
   "language": "python",
   "name": "python3"
  },
  "language_info": {
   "codemirror_mode": {
    "name": "ipython",
    "version": 3
   },
   "file_extension": ".py",
   "mimetype": "text/x-python",
   "name": "python",
   "nbconvert_exporter": "python",
   "pygments_lexer": "ipython3",
   "version": "3.7.3"
  }
 },
 "nbformat": 4,
 "nbformat_minor": 2
}
