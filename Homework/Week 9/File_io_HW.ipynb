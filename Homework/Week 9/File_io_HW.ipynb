{
 "cells": [
  {
   "cell_type": "markdown",
   "metadata": {},
   "source": [
    "# File-io Homework"
   ]
  },
  {
   "cell_type": "markdown",
   "metadata": {},
   "source": [
    "In this week's homework you will try to familiarize yourself with reading in data from FITS files. Some of these problems will deal with flux data, others with spectra from galaxies and/or stars."
   ]
  },
  {
   "cell_type": "code",
   "execution_count": null,
   "metadata": {},
   "outputs": [],
   "source": [
    "from astropy.io import fits\n",
    "import numpy as np\n",
    "import pylab as plt\n",
    "from scipy.signal import medfilt\n",
    "from scipy.interpolate import interp1d"
   ]
  },
  {
   "cell_type": "markdown",
   "metadata": {},
   "source": [
    "# Review:\n",
    "\n",
    "This section will help with helping you recollect the main things to take away from FITS files and how to navigate them. "
   ]
  },
  {
   "cell_type": "markdown",
   "metadata": {},
   "source": [
    "# #1"
   ]
  },
  {
   "cell_type": "markdown",
   "metadata": {},
   "source": [
    "a) What is stored in a FITS file. List as many things as you can come up with.\n",
    "\n",
    "b) How does one access data from a FITS file.\n",
    "\n",
    "c) Where is all the information about whats in the FITS file located at and how can you use this to access crucial information?\n",
    "\n",
    "d) Do most FITS file have one thing inside the file or multiple? How can you check this?"
   ]
  },
  {
   "cell_type": "markdown",
   "metadata": {},
   "source": [
    "a)\n",
    "\n",
    "b)\n",
    "\n",
    "c)\n",
    "\n",
    "d)"
   ]
  },
  {
   "cell_type": "markdown",
   "metadata": {},
   "source": [
    "# #2"
   ]
  },
  {
   "cell_type": "code",
   "execution_count": null,
   "metadata": {},
   "outputs": [],
   "source": [
    "#below are a list of code with an empty comment above the line. Your task is \n",
    "#to describe what each line is doing please be as specific as you can. \n",
    "\n",
    "\n",
    "#\n",
    "x = fits.open('Spectrum.fits')\n",
    "    \n",
    "#\n",
    "print(x.info())\n",
    "    \n",
    "#\n",
    "a = x[0].header\n",
    "\n",
    "#\n",
    "print(repr(a))\n",
    "\n",
    "#\n",
    "b = x[1].header\n",
    "       \n",
    "#\n",
    "print(list(b.keys()))\n",
    "    \n",
    "#\n",
    "data = x[1].data['SPEC']\n",
    "    \n",
    "#\n",
    "data1 = x[1].data['WAVELN']\n",
    "\n",
    "#\n",
    "x.close()"
   ]
  },
  {
   "cell_type": "markdown",
   "metadata": {},
   "source": [
    "# #3"
   ]
  },
  {
   "cell_type": "markdown",
   "metadata": {},
   "source": [
    "In this problem you will open a file and give back some useful information from just the header and info."
   ]
  },
  {
   "cell_type": "code",
   "execution_count": null,
   "metadata": {},
   "outputs": [],
   "source": [
    "hdu = fits.open('dss.14.4.4.98432000000392+0.59.53.3939999999998.fits')\n",
    "\n",
    "#How many things are in the FITS file? Please print out the names below\n",
    "\n",
    "\n",
    "\n",
    "\n",
    "\n",
    "#What are the dimensions of each thing?\n",
    "\n",
    "\n",
    "\n",
    "\n",
    "\n",
    "#Please write code that extracts the data from PrimaryHDU\n",
    "\n",
    "\n",
    "\n",
    "\n",
    "\n",
    "#Please write code that extracts the columns from the BinTableHDU, what are their \n",
    "#names and units associated with them\n",
    "\n",
    "\n",
    "\n"
   ]
  },
  {
   "cell_type": "markdown",
   "metadata": {},
   "source": [
    "A big push in astronomy nowadays is that big surveys go out and collect a ton of data. How much data do they collect? To put things in perspective Aaron Parson, the radio astronomy professor here has a project called HERA and he's looking at HI lines from the very first galaxies ever formed. He mentioned to us that in one night of observing he collects something like 250 Terabytes of data. That is a ton of data!!!! You can only imagine that other projects like the SDSS, Kepler, TESS, and the most anticipated James Webb Space Telescope, collect or will collect a similar amount. Thus, knowing how to handle data in any format is a crucial tool for an astronomer to have. You will be using these big data releases to answer any questions that you want to answer. Which you will explore in this weeks homework. The goal of this homework is to familiarize yourself with file-io particularly how to grab data from the files and how to use the data in these files to do some cool astronomy."
   ]
  },
  {
   "cell_type": "markdown",
   "metadata": {},
   "source": [
    "# 1 Data from Fits\n",
    "\n",
    "In this first homework problem you will attempt to grab data from a website and access the neccessary data that we ask for. "
   ]
  },
  {
   "cell_type": "markdown",
   "metadata": {},
   "source": [
    "1. \n",
    "Download the fits binary table from the FIRST survey from this website, http://sundog.stsci.edu/first/catalogs/readme.html, labeled first_14dec17.fits.gz.\n",
    "\n",
    "Write a function that:\n",
    "\n",
    "    a. Opens the file and prints out the RA and DEC of objects that have a peak flux of 100 mJy or more. \n",
    "\n",
    "    b. Reads in the fits file and calculates the total flux recieved from the southern hemisphere (ie, below the equator). NOTE: This is not the same as using FPEAK as in part a."
   ]
  },
  {
   "cell_type": "code",
   "execution_count": null,
   "metadata": {},
   "outputs": [],
   "source": []
  },
  {
   "cell_type": "markdown",
   "metadata": {},
   "source": [
    "# 2 Working with Spectrum Data"
   ]
  },
  {
   "cell_type": "markdown",
   "metadata": {},
   "source": [
    "Working in astronomy means that our primary mode of getting information about an object is by analyzing the light we recieve from that object. Thus being familiar with how to work with spectrum data and reducing it down so that it looks nice is crucial to further our understanding of astronomical objects. \n",
    "\n",
    "They are important in getting chemical composition of stars by looking at absorption and emission lines.\n",
    "By looking for certain lines in the spectrum and seeing how it changes from its original rest frame emission frequency or wavelength we can determine how fast the object is moving away or towards us and is a proxy for detemrining how far away the object is from us.\n",
    "\n",
    "For this problem you will need to work with the following fits file:\n",
    "\n",
    "    star1.fits\n",
    "    star2.fits\n",
    "    galaxy1.fits\n",
    "    galaxy2.fits\n",
    "    \n",
    "Lets open one up and see whats inside.    "
   ]
  },
  {
   "cell_type": "code",
   "execution_count": null,
   "metadata": {},
   "outputs": [],
   "source": [
    "hdu = fits.open('star1.fits')"
   ]
  },
  {
   "cell_type": "code",
   "execution_count": null,
   "metadata": {},
   "outputs": [],
   "source": [
    "primary_hdr = hdu[0].header"
   ]
  },
  {
   "cell_type": "code",
   "execution_count": null,
   "metadata": {},
   "outputs": [],
   "source": [
    "data_hdr = hdu[1].header\n",
    "print(repr(data_hdr))"
   ]
  },
  {
   "cell_type": "markdown",
   "metadata": {},
   "source": [
    "The data we want to plot are those labeled flux and loglam. Flux will be in the conventional astronomical cgs units which have units of $10^{-17}\\frac{ergs}{s \\space cm^2 \\space Angstrom}$ and wavelength ($\\lambda$) will be in Angstroms"
   ]
  },
  {
   "cell_type": "markdown",
   "metadata": {},
   "source": [
    "# 2a. \n",
    "Make a function that takes the spectrum data for all of the files above and plots them. Be sure to label key absorption and emission lines that astronomers look for. \n",
    "\n",
    "Some rest frame wavelength are:\n",
    "    \n",
    "    [OII] = 3727.1 & 3729.9 Angstroms\n",
    "    [OIII] = 4364.4 & 4960.3 & 5008.2 Angstroma\n",
    "    HeII = 4687 & 5413 Angstroms\n",
    "    Ha = 6564.6 Angstroms (h-alpha)\n",
    "    Hb = 4862.7 Angstroms (h-beta)\n",
    "    [Ar III] = 7137.8 Angstroms"
   ]
  },
  {
   "cell_type": "code",
   "execution_count": null,
   "metadata": {},
   "outputs": [],
   "source": []
  },
  {
   "cell_type": "markdown",
   "metadata": {},
   "source": [
    "Something that we can check from the plot(s) you made in part a) is the shift of an emission line. You might notice that some lines do not seem to match up with the peaks of the lines. This has to do with the objects relative motion to us. \n",
    "\n",
    "If the peak seems to have shifted to lower wavelength that means the object is moving towards us and is blueshifted. If the peak seems to have shifted to higher wavelength that means the object is moving away from us and is redshifted. \n",
    "\n",
    "By looking at this shift in the wavelength/frequency of an emission line astronomers can determine just how fast an object is moving away or towards us. This is the doppler velocity which you will calculate in the next problem."
   ]
  },
  {
   "cell_type": "markdown",
   "metadata": {},
   "source": [
    "# 2b. \n",
    "Make a function that calculate the doppler velocity of the galaxy specturm using the doppler velocity formula and using the strongest emission line you can find in the spectrum.\n",
    "\n",
    "The doppler velocity formula is given by: \n",
    "\n",
    "$ \\frac{\\Delta\\nu}{\\nu} = -\\frac{v}{c}$\n",
    "\n",
    "Where $\\Delta\\nu$ is the change in frequency from rest frame frequency to the frequency where a line is observed at. Need not be too exact but it does have to be reasonable.\n",
    "\n",
    "Hint: c = $\\lambda \\nu$ relates wavelength to frequency"
   ]
  },
  {
   "cell_type": "code",
   "execution_count": null,
   "metadata": {},
   "outputs": [],
   "source": []
  },
  {
   "cell_type": "markdown",
   "metadata": {},
   "source": [
    "# 3 Data Reduction of a Spectrum"
   ]
  },
  {
   "cell_type": "markdown",
   "metadata": {},
   "source": [
    "Now we will apply what we learned from the first two problems and apply them to some radio astronomy data. The files that you will use were taken from the RadioLab course. What we set out to do is obtain spectra of the Milky Way Galaxy by measuring the HI emission line emitting from the spiral arms. \n",
    "\n",
    "We used the telescope called Leuschner which lies in the Berkeley hills to collect the data. There we used a spectrometer (a fancy name for a device that splits up light into different wavelengths/frequencies and measures the intensity at each wavelength) to measure the intensities near the HI rest frequency line. But as is typical of all observations there are some errors coming in due to the equipment being used. Often times the signals are very weak and in order for us to see them they have to go through an amplifier so the signal can get boosted. However, this introduces noise into the signal. Another source of noise comes when we apply low pass and high pass filters; we can get a shape due to the filter that we do not want in our final signal. So this problem will teach you how to handle that and reduce the data down."
   ]
  },
  {
   "cell_type": "markdown",
   "metadata": {},
   "source": [
    "# Step 1\n",
    "\n",
    "The first thing to do is to calibrate your incoming signal with the proper gain (a little into what gain is later). \n",
    "\n",
    "To do this we take a spectrum of a patch of the sky, not really pointing at anything, and then we take another spectrum looking at the same patch of the sky but now we introduce some noise.\n",
    "\n",
    "These files are the noise_on.fits and noise_off.fits files you will be working with. \n",
    "\n",
    "We will see just how the intrumentation set-up introduces a baseline shape. "
   ]
  },
  {
   "cell_type": "code",
   "execution_count": null,
   "metadata": {},
   "outputs": [],
   "source": [
    "#open up the two fits files and lets extract one sample of the signal and plot it\n",
    "\n",
    "#Insert code here:\n",
    "hdu_on = fits.open('noise_on.fits') #on data\n",
    "hdu_off = fits.open('noise_off.fits') #off data\n",
    "\n",
    "#Lets look at the header for the on data\n",
    "#to see what information we can get and what would be of importance for this problem\n",
    "\n",
    "hdr = \n",
    "\n",
    "print(repr(hdr))"
   ]
  },
  {
   "cell_type": "markdown",
   "metadata": {},
   "source": [
    "---"
   ]
  },
  {
   "cell_type": "markdown",
   "metadata": {},
   "source": [
    "Lets unpack the header as there is alot of information here:\n",
    "\n",
    "NSPEC: represents the number of specta that we have acquired for this pointing in this case it is 100 spectra\n",
    "\n",
    "SAMPRATE: is the rate at which we sampled the light coming into our spectrometer\n",
    "\n",
    "BW: is the Bandwidth of our Spectra (this is used to create our x-axis frequency array)\n",
    "\n",
    "NCHAN: represents the number of frequency channel or in laymans terms just how big spectra is (try using len(data) to see) (this information is also crucial to making our x-axis array)\n",
    "\n",
    "RA and DEC: are the coordinates that the telescope was pointing at\n",
    "\n",
    "L and B are the galactic coordinate the telescope was looking at\n",
    "\n",
    "INTTIME: was how long each specra was integrated over in this case about .7 seconds per spectrum"
   ]
  },
  {
   "cell_type": "code",
   "execution_count": null,
   "metadata": {},
   "outputs": [],
   "source": [
    "#lets look at the information in the hdu_on\n",
    "hdu_on.info()"
   ]
  },
  {
   "cell_type": "markdown",
   "metadata": {},
   "source": [
    "This fits files gives us 100 spectrums starting at 1-100"
   ]
  },
  {
   "cell_type": "markdown",
   "metadata": {},
   "source": [
    "---"
   ]
  },
  {
   "cell_type": "markdown",
   "metadata": {},
   "source": [
    "Lets look at the header of our first data BinTable"
   ]
  },
  {
   "cell_type": "code",
   "execution_count": null,
   "metadata": {},
   "outputs": [],
   "source": [
    "#fill in \n",
    "data_hdr = hdu_on[1].header\n",
    "\n",
    "print(repr(data_hdr))"
   ]
  },
  {
   "cell_type": "markdown",
   "metadata": {},
   "source": [
    "# NOTE: \n",
    "The Leuschner telescope is able to observe an object in two different polarizations\n",
    "auto0_real is vertical and auto1_real is horizontal polarization for this problem we restrict ourself to auto0_real"
   ]
  },
  {
   "cell_type": "code",
   "execution_count": null,
   "metadata": {},
   "outputs": [],
   "source": [
    "#we will now extract the first data in the fits file: \n",
    "spec_on = hdu_on[1].data['auto0_real']\n",
    "\n",
    "#now do the same for the off data\n",
    "spec_off = \n",
    "\n",
    "#Now lets plot this spectrum just by itself to get a feel for the data\n",
    "#It would be wise to plot them on the same figure to see the difference between noise on and noise off\n",
    "\n",
    "plt.figure(figsize = (14,8))\n",
    "\n",
    "plt.legend()\n",
    "plt.show()"
   ]
  },
  {
   "cell_type": "markdown",
   "metadata": {},
   "source": [
    "So what we will do is clean it up by taking the average over all the spectra that we have."
   ]
  },
  {
   "cell_type": "markdown",
   "metadata": {},
   "source": [
    "## 3a. \n",
    "Write a function that is able to find the average of the 100 spectra in the fits file and apply your function to the on and off fits files and plot the results on the same figure. \n",
    "\n",
    "Recall your prior knowledge of arrays and its operations to help you with this problem."
   ]
  },
  {
   "cell_type": "code",
   "execution_count": null,
   "metadata": {},
   "outputs": [],
   "source": [
    "#write code below\n",
    "\n",
    "\n",
    "#making the x-axis array for you to use in the plot:\n",
    "bw = hdu_on[0].header['BW']/1e6\n",
    "n = hdu_on[0].header['nchan']\n",
    "#This is the frequency array and has units of MHz be sure to label this in your plot\n",
    "xaxis = np.linspace(-bw/2, bw/2, n) + (2*635) + 150 \n",
    "\n",
    "#plotting code below\n",
    "\n",
    "plt.plot(xaxis, )"
   ]
  },
  {
   "cell_type": "markdown",
   "metadata": {},
   "source": [
    "Once you have plotted the average of 100 spectra for the on and off data, hopefully you got a spectra that looks a lot cleaner and is not as noisy as before. "
   ]
  },
  {
   "cell_type": "markdown",
   "metadata": {},
   "source": [
    "# Step 2\n",
    "\n",
    "Next in the data reduction is to calculate something called the Gain with your averaged on and off data. The Gain is a number that we multiply our signal and is essentially a calibration. So to calibrate the signal we use the gain formula given below:\n",
    "\n",
    "G = $\\frac{T_{sys, on} - T_{sys,off}}{\\sum (s_{on} - s_{off})} \\sum s_{off}$ \n",
    "\n",
    "Here $T_{sys,on}$ is the temperature of the telescope when the noise is turned on, which in our case is 30K, and $T_{sys,off}$ is the temperature of the telescope when the noise is turned off, which is the ambient space temperature of 2.73 or 3 K for simplicity. $s_{on}$ and $s_{off}$ are the avgeraged spectra you calculated for the signal when noise is on and off respectively. "
   ]
  },
  {
   "cell_type": "markdown",
   "metadata": {},
   "source": [
    "## 3b. \n",
    "Calculate the gain of the Leuschner telscope using the formula above"
   ]
  },
  {
   "cell_type": "code",
   "execution_count": null,
   "metadata": {},
   "outputs": [],
   "source": []
  },
  {
   "cell_type": "markdown",
   "metadata": {},
   "source": [
    "# Step 3"
   ]
  },
  {
   "cell_type": "markdown",
   "metadata": {},
   "source": [
    "We are almost done in our data reduction. Now that we know what to multiply the signal to properly calibrate it all we have to do is get a good signal multiply it by the gain and we are done. However, we run into the problem that the bandpass shape from our filter is altering our signal. So we need a way to get rid of those pesky sine waves and parabolic shape from the signal."
   ]
  },
  {
   "cell_type": "markdown",
   "metadata": {},
   "source": [
    "Use the function that you used in part a) of this problem to smooth out the cassiopea signal and plot it. This can be found in the cassiopea.fits file.  "
   ]
  },
  {
   "cell_type": "code",
   "execution_count": null,
   "metadata": {},
   "outputs": [],
   "source": [
    "\n",
    "#label for your smoothed cassiopea spectrum\n",
    "cass_avg = "
   ]
  },
  {
   "cell_type": "markdown",
   "metadata": {},
   "source": [
    "To get rid of the huge spikes we see popping up randomly in the data we can further filter it using scipy's medfilt function"
   ]
  },
  {
   "cell_type": "code",
   "execution_count": null,
   "metadata": {},
   "outputs": [],
   "source": [
    "smoothed_cass = medfilt(cass_avg, kernel_size = 5)"
   ]
  },
  {
   "cell_type": "markdown",
   "metadata": {},
   "source": [
    "The signal we are trying to get is those two peaks in the middle of the data. \n",
    "\n",
    "To get rid of the bandpass shape we will be using interpolation. As mentioned in class, interpolation returns another function where it guesses values in between missing data points with a polynomial that you specify. I highly recommend using scipy's interp1d function set kind = quadratic or cubic.\n",
    "\n",
    "## 3c. \n",
    "Use any interpolation method to get rid of the baseline shape (ie, the sine and parabolic shape) in the cassiopea data and plot the result."
   ]
  },
  {
   "cell_type": "code",
   "execution_count": null,
   "metadata": {},
   "outputs": [],
   "source": [
    "#this code block creates a boolean filter to get rid of the signal we are trying to preserve\n",
    "#you use this to filter the data and use the filtered data in the interpolation functions\n",
    "bool_filter = np.ones(len(smoothed_cass), dtype = bool)\n",
    "\n",
    "for i in range(len(smoothed_cass)):\n",
    "    if xaxis[i] >= 1420 and xaxis[i] <= 1421.5:\n",
    "        bool_filter[i] = False\n",
    "\n",
    "interp_data = smoothed_cass[bool_filter]      "
   ]
  },
  {
   "cell_type": "code",
   "execution_count": null,
   "metadata": {},
   "outputs": [],
   "source": []
  }
 ],
 "metadata": {
  "kernelspec": {
   "display_name": "Python 3",
   "language": "python",
   "name": "python3"
  },
  "language_info": {
   "codemirror_mode": {
    "name": "ipython",
    "version": 3
   },
   "file_extension": ".py",
   "mimetype": "text/x-python",
   "name": "python",
   "nbconvert_exporter": "python",
   "pygments_lexer": "ipython3",
   "version": "3.7.1"
  }
 },
 "nbformat": 4,
 "nbformat_minor": 2
}
