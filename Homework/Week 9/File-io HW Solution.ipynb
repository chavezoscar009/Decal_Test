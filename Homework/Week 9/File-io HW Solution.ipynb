{
 "cells": [
  {
   "cell_type": "markdown",
   "metadata": {},
   "source": [
    "# File-io Solutions"
   ]
  },
  {
   "cell_type": "code",
   "execution_count": null,
   "metadata": {},
   "outputs": [],
   "source": [
    "from astropy.io import fits\n",
    "import numpy as np\n",
    "import pylab as plt\n",
    "from scipy.signal import medfilt\n",
    "import numpy as np\n",
    "from scipy.interpolate import interp1d"
   ]
  },
  {
   "cell_type": "markdown",
   "metadata": {},
   "source": [
    "# Warm Up"
   ]
  },
  {
   "cell_type": "markdown",
   "metadata": {},
   "source": [
    "# #1"
   ]
  },
  {
   "cell_type": "markdown",
   "metadata": {},
   "source": [
    "    a) \n",
    "       1. Images of galaxies, stars, quasars\n",
    "       2. BinaryTables: usually holding spectrum information\n",
    "       3. PrimaryHDU: Information of telescope/viewing, (RA, DEC), seeing, time of observation, \n",
    "          who did it, filename \n",
    "\n",
    "    b) Two ways: data = hdu[number].data\n",
    "                 data = fits.getdata(filename)\n",
    "\n",
    "    c) The information is listed in the PrimaryHDU and can be some useful stuff in hdu.info() as \n",
    "       this tells you extensions of the fits files and what they contain. To access information you can use\n",
    "       column names or  \n",
    "\n",
    "    d) Most have multiple and can be checked using the hdu.info() command or looking at \n",
    "       header and seeing a T on extensions\n"
   ]
  },
  {
   "cell_type": "markdown",
   "metadata": {},
   "source": [
    "# #2"
   ]
  },
  {
   "cell_type": "code",
   "execution_count": null,
   "metadata": {},
   "outputs": [],
   "source": [
    "#below are a list of code with an empty comment above the line. Your task is to describe what each line is doing\n",
    "#please be as specific as you can. Write the description in the comment. \n",
    "\n",
    "\n",
    "#This opens up the hdu object and assigns it to variable x\n",
    "x = fits.open('Spectrum.fits')\n",
    "    \n",
    "#This command tells you the information contained within the fits file and the number of extensions\n",
    "print(x.info())\n",
    "    \n",
    "#this assigns to a the header of the PrimaryHDU\n",
    "a = x[0].header\n",
    "\n",
    "#This lists out the header so that we can see it\n",
    "print(repr(a))\n",
    "\n",
    "#this assigns ot b the header of the first extension \n",
    "b = x[1].header\n",
    "       \n",
    "#this list the column names for the header of the first extension\n",
    "print(list(b.keys()))\n",
    "    \n",
    "#This collects from the file the SPEC data\n",
    "data = x[1].data['SPEC']\n",
    "    \n",
    "#This collects the WAVLN data from the file\n",
    "data1 = x[1].data['WAVELN']\n",
    "\n",
    "#This command closes the file\n",
    "x.close()"
   ]
  },
  {
   "cell_type": "markdown",
   "metadata": {},
   "source": [
    "# #3"
   ]
  },
  {
   "cell_type": "code",
   "execution_count": null,
   "metadata": {},
   "outputs": [],
   "source": [
    "hdu = fits.open('dss.14.4.4.98432000000392+0.59.53.3939999999998.fits')\n",
    "\n",
    "#How many things are in the FITS file? Please print out the names below\n",
    "'''\n",
    "2 things are in the fits files: with names PRIMARY and Photometric CALTABLE\n",
    "\n",
    "\n",
    "'''\n",
    "\n",
    "#What are the dimensions of each thing?\n",
    "'''\n",
    "PRIMARY has dimension of 177 X 177\n",
    "\n",
    "Photometric CALTABLE has dimensions of 15 rows and 4 columns\n",
    "'''\n",
    "\n",
    "\n",
    "\n",
    "\n",
    "#Please write code that extracts the data from PrimaryHDU\n",
    "data = hdu[0].data\n",
    "\n",
    "\n",
    "\n",
    "\n",
    "#Please write code that extracts the columns from the BinTableHDU, what are their names and units associated with them\n",
    "col = hdu[1].data.columns"
   ]
  },
  {
   "cell_type": "code",
   "execution_count": null,
   "metadata": {},
   "outputs": [],
   "source": []
  },
  {
   "cell_type": "markdown",
   "metadata": {},
   "source": [
    "I must stress that the solutions presented below are only one way to approach these problems and are by no means the only way to get the same answer. If you have something different but get the same result thats is perfectly okay, so long as the main points are there."
   ]
  },
  {
   "cell_type": "markdown",
   "metadata": {},
   "source": [
    "# 1 Data from Fits (Soln)"
   ]
  },
  {
   "cell_type": "code",
   "execution_count": null,
   "metadata": {},
   "outputs": [],
   "source": [
    "#creating a variable that will hold the filename\n",
    "file = 'first_14dec17.fits'\n",
    "\n",
    "\n",
    "def get_data(filename):\n",
    "    '''\n",
    "    This function will print out the RA and DEC of all objects that have a peak flux of 100 mJy or more\n",
    "    \n",
    "    Parameters:\n",
    "    filename: the name of the file we want to apply this function to\n",
    "    \n",
    "    Output:\n",
    "    On the screen a list of RA and DEC \n",
    "    '''\n",
    "    #makes an hdu object for the datafile\n",
    "    hdu = fits.open(filename)\n",
    "    \n",
    "    #getting the RA, DEC and peak flux from the data\n",
    "    RA = hdu[1].data['RA']\n",
    "    DEC = hdu[1].data['DEC']\n",
    "    FPEAK = hdu[1].data['FPEAK']\n",
    "    \n",
    "    #making a boolean filter the length of my data array\n",
    "    bool_filter = np.zeros(len(FPEAK), dtype = bool)\n",
    "    \n",
    "    #this for loop checks to see if the condition FPEAK[i] >= 100 holds \n",
    "    #and assigns boolean filter the value of True\n",
    "    for i in range(len(FPEAK)):\n",
    "        \n",
    "        #checking condition here\n",
    "        if FPEAK[i] >= 100:\n",
    "            \n",
    "            #assigning boolean filter to True because this is the index we want to keep\n",
    "            bool_filter[i] = True\n",
    "    \n",
    "    #simplifying the data set to only those that match criteria\n",
    "    data_RA = RA[bool_filter]\n",
    "    data_DEC = DEC[bool_filter]\n",
    "    \n",
    "    #printing out the RA and DEC\n",
    "    for i in range(len(data_RA)):\n",
    "        print('RA: %.2f, DEC: % .2f'%(data_RA[i], data_DEC[i]) )   "
   ]
  },
  {
   "cell_type": "code",
   "execution_count": null,
   "metadata": {},
   "outputs": [],
   "source": [
    "def flux_southern(filename):\n",
    "    '''\n",
    "    This function will print out the total flux recieved in the southern hemisphere\n",
    "    \n",
    "    Parameters:\n",
    "    filename: the name of the file we want to apply this function to\n",
    "    \n",
    "    Output:\n",
    "    the total flux recieved in \n",
    "    '''\n",
    "    #makes an hdu object for the datafile\n",
    "    hdu = fits.open(filename)\n",
    "    \n",
    "    #getting the DEC and flux intensity from the file hdu\n",
    "    DEC = hdu[1].data['DEC']\n",
    "    FINT = hdu[1].data['FINT']\n",
    "\n",
    "    #making a boolean filter the length of my data array\n",
    "    bool_filter = np.zeros(len(FINT), dtype = bool)\n",
    "    \n",
    "    for i in range(len(FINT)):\n",
    "        if DEC[i] < 0:\n",
    "            bool_filter[i] = True\n",
    "            \n",
    "    south_flux = FINT[bool_filter]\n",
    "    \n",
    "    total_south_flux = np.sum(south_flux)\n",
    "    \n",
    "    \n",
    "    \n",
    "    print('%.3f mJy' % (total_south_flux))\n",
    "    \n",
    "    "
   ]
  },
  {
   "cell_type": "code",
   "execution_count": null,
   "metadata": {},
   "outputs": [],
   "source": [
    "get_data(file)"
   ]
  },
  {
   "cell_type": "code",
   "execution_count": null,
   "metadata": {},
   "outputs": [],
   "source": [
    "flux_southern(file)"
   ]
  },
  {
   "cell_type": "code",
   "execution_count": null,
   "metadata": {},
   "outputs": [],
   "source": [
    "hdu = fits.open('star1.fits')\n",
    "hdr = hdu[1].header\n",
    "\n",
    "#print(repr(hdr))\n",
    "\n",
    "col = hdu[1].columns\n",
    "print(col.names[0])"
   ]
  },
  {
   "cell_type": "markdown",
   "metadata": {},
   "source": [
    "# 2 Working with Spectrum Data"
   ]
  },
  {
   "cell_type": "code",
   "execution_count": null,
   "metadata": {},
   "outputs": [],
   "source": [
    "files = ['star1.fits', 'star2.fits', 'galaxy1.fits', 'galaxy2.fits']\n",
    "\n",
    "def plotting_spectrums(files):\n",
    "    \n",
    "    '''\n",
    "    Function that will take in all the files above and plots them along with some well looked for lines\n",
    "    \n",
    "    Parameter\n",
    "    -----------\n",
    "    files: this is a list of all the file names which we will use to ultimately plot them\n",
    "    \n",
    "    Output:\n",
    "    A subplot with all of the files along with lines\n",
    "    \n",
    "    '''\n",
    "    \n",
    "    \n",
    "    spec_data = []\n",
    "    wavelength = []\n",
    "    \n",
    "    \n",
    "    for i in files:\n",
    "        hdu = fits.open(i)\n",
    "        \n",
    "        data = medfilt(hdu[1].data['flux'], kernel_size = 5)\n",
    "        lam = hdu[1].data['loglam']\n",
    "        \n",
    "        hdu.close()\n",
    "        \n",
    "        spec_data.append(data)\n",
    "        wavelength.append(lam)\n",
    "        \n",
    "    data_array = np.array(spec_data)\n",
    "    wavln_array = 10 ** np.array(wavelength)\n",
    "    \n",
    "    lines = [3727.1, 3729.9, 4364.4, 4687, 4862.7, 4960.3, 5008.2, 5413, 6564.6, 7137.8]\n",
    "    \n",
    "    fig = plt.figure(figsize = (20, 15))\n",
    "    \n",
    "    ax1 = fig.add_subplot(211)\n",
    "    ax2 = fig.add_subplot(212, sharex = ax1)\n",
    "    \n",
    "    ax1.set_title('Star 1 Spectrum', fontsize = 15)\n",
    "    ax1.set_xlabel(r'$ Wavelength [\\AA]$ ')\n",
    "    ax1.set_ylabel(r'$ Intensity \\hspace{.5} 10^{-17} \\frac{ergs}{s\\hspace{.5} cm^2/ \\AA}$', fontsize = 20)\n",
    "    ax1.plot(wavln_array[0], data_array[0])\n",
    "    ax1.set_xlim(wavln_array[0][0],7500) \n",
    "    \n",
    "    for i in lines:\n",
    "        \n",
    "        ax1.axvline(i)\n",
    "        ax2.axvline(i)\n",
    "    \n",
    "    ax2.set_title('Star 2 Spectrum', fontsize = 15)\n",
    "    ax2.set_xlabel(r'$ Wavelength [\\AA]$ ')\n",
    "    ax2.set_ylabel(r'$ Intensity [\\hspace{.5} 10^{-17} \\frac{ergs}{s\\hspace{.5} cm^2/ \\AA}$', fontsize = 20)\n",
    "    ax2.plot(wavln_array[1], data_array[1])\n",
    "    \n",
    "    fig.tight_layout()\n",
    "    plt.show()\n",
    "    \n",
    "    fig1 = plt.figure(figsize = (20, 15))\n",
    "    ax11 = fig1.add_subplot(211)\n",
    "    ax22 = fig1.add_subplot(212, sharex = ax11)\n",
    "    \n",
    "    ax11.set_title('Galaxy 1 Spectrum', fontsize = 15)\n",
    "    ax11.set_xlabel(r'$ Wavelength [\\AA]$ ')\n",
    "    ax11.set_ylabel(r'$ Intensity \\hspace{.5} 10^{-17} \\frac{ergs}{s\\hspace{.5} cm^2/ \\AA}$', fontsize = 20)\n",
    "    ax11.plot(wavln_array[2], data_array[2])\n",
    "    ax11.set_xlim(wavln_array[2][0], 7500)\n",
    "    for i in lines:\n",
    "        \n",
    "        ax11.axvline(i)\n",
    "        ax22.axvline(i)\n",
    "    \n",
    "    ax22.set_title('Galaxy 2 Spectrum', fontsize = 15)\n",
    "    ax22.set_xlabel(r'$ Wavelength [\\AA]$ ')\n",
    "    ax22.set_ylabel(r'$ Intensity \\hspace{.5} 10^{-17} \\frac{ergs}{s\\hspace{.5} cm^2/ \\AA}$', fontsize = 20)\n",
    "    ax22.plot(wavln_array[3], data_array[3])\n",
    "    \n",
    "   \n",
    "    \n",
    "    fig1.tight_layout()\n",
    "    \n",
    "    \n",
    "    plt.show()\n",
    "    \n",
    "    \n",
    "    \n",
    "                "
   ]
  },
  {
   "cell_type": "code",
   "execution_count": null,
   "metadata": {},
   "outputs": [],
   "source": [
    "plotting_spectrums(files)"
   ]
  },
  {
   "cell_type": "markdown",
   "metadata": {},
   "source": [
    "Doppler Velocity"
   ]
  },
  {
   "cell_type": "code",
   "execution_count": null,
   "metadata": {},
   "outputs": [],
   "source": [
    "galaxy2 = 'galaxy2.fits'\n",
    "\n",
    "def doppler(filename):\n",
    "    c = 3e8\n",
    "    rest_fram_freq = c/7137.8e-10 #converting to the right units\n",
    "    hdu = fits.open(filename)\n",
    "        \n",
    "    data = hdu[1].data['flux']\n",
    "    lam = 10 ** hdu[1].data['loglam']/(1e10)\n",
    "        \n",
    "    hdu.close()\n",
    "    freq_arr = c/lam\n",
    "    \n",
    "    filt = np.zeros(len(freq_arr), dtype = bool)\n",
    "    \n",
    "    for i in range(len(freq_arr)):\n",
    "        if freq_arr[i] >= rest_fram_freq-5e13 and freq_arr[i] <= rest_fram_freq+5e13:\n",
    "            filt[i] = True\n",
    "            \n",
    "    reduced_data = data[filt]\n",
    "    reduced_freq = freq_arr[filt]\n",
    "    \n",
    "    delta_nu = rest_fram_freq - reduced_freq\n",
    "    vel = -c * (delta_nu)/rest_fram_freq\n",
    "    \n",
    "    max_index = np.argmax(reduced_data)\n",
    "    \n",
    "    print('Doppler velocity of the galaxy is about %7.2f km/s' %(vel[max_index]/1000))"
   ]
  },
  {
   "cell_type": "code",
   "execution_count": null,
   "metadata": {},
   "outputs": [],
   "source": [
    "doppler(galaxy2)  "
   ]
  },
  {
   "cell_type": "markdown",
   "metadata": {},
   "source": [
    "# 3 Data Reduction of a Spectrum "
   ]
  },
  {
   "cell_type": "code",
   "execution_count": null,
   "metadata": {},
   "outputs": [],
   "source": [
    "def avg_spectrum(file):\n",
    "    \n",
    "    hdu = fits.open(file)\n",
    "    \n",
    "    sum_of_spectra = 0\n",
    "    Num_Spec = hdu[0].header['NSPEC']\n",
    "    \n",
    "    for i in range(1, Num_Spec+1):\n",
    "        \n",
    "        sum_of_spectra += hdu[i].data['auto0_real']\n",
    "        \n",
    "    avg_spec = sum_of_spectra/Num_Spec\n",
    "    \n",
    "    return avg_spec\n",
    "\n",
    "on_data = avg_spectrum('noise_on.fits')\n",
    "off_data = avg_spectrum('noise_off.fits')\n",
    "\n",
    "hdu_on = fits.open('noise_on.fits')\n",
    "#making the x-axis array for you to use in the plot:\n",
    "bw = hdu_on[0].header['BW']/1e6\n",
    "n = hdu_on[0].header['nchan']\n",
    "#This is the frequency array and has units of MHz be sure to label this in your plot\n",
    "xaxis = np.linspace(-bw/2, bw/2, n) + (2*635) + 150 \n",
    "\n",
    "plt.figure(figsize = (14, 12))\n",
    "plt.title('Comparing On and Off Spectrum (avg-ed)')\n",
    "plt.ylabel('Power')\n",
    "plt.plot(xaxis, on_data, label = 'On Data')\n",
    "plt.plot(xaxis, off_data, label = 'Off Data')\n",
    "plt.legend(loc = 'best')\n"
   ]
  },
  {
   "cell_type": "markdown",
   "metadata": {},
   "source": [
    "# Gain"
   ]
  },
  {
   "cell_type": "code",
   "execution_count": null,
   "metadata": {},
   "outputs": [],
   "source": [
    "def Gain(s_on, s_off):\n",
    "    \n",
    "    T_sys = 30\n",
    "    T_cold = 3\n",
    "    \n",
    "    diff_T = T_sys - T_cold\n",
    "    diff_spec = s_on - s_off\n",
    "    \n",
    "    sum_diff_spec = np.sum(diff_spec)\n",
    "    \n",
    "    G = (diff_T/sum_diff_spec) * np.sum(s_off)\n",
    "    \n",
    "    return G\n"
   ]
  },
  {
   "cell_type": "code",
   "execution_count": null,
   "metadata": {},
   "outputs": [],
   "source": [
    "print('The Gain for this problem is: %4.2f' %(Gain(on_data, off_data)))"
   ]
  },
  {
   "cell_type": "markdown",
   "metadata": {},
   "source": [
    "# Casseopia"
   ]
  },
  {
   "cell_type": "code",
   "execution_count": null,
   "metadata": {},
   "outputs": [],
   "source": [
    "avg_cass = avg_spectrum('cassiopea.fits')"
   ]
  },
  {
   "cell_type": "code",
   "execution_count": null,
   "metadata": {},
   "outputs": [],
   "source": [
    "smoothed_cass = medfilt(avg_cass, kernel_size = 5)"
   ]
  },
  {
   "cell_type": "code",
   "execution_count": null,
   "metadata": {},
   "outputs": [],
   "source": [
    "bool_filter = np.ones(len(smoothed_cass), dtype = bool)\n",
    "\n",
    "for i in range(len(smoothed_cass)):\n",
    "    if xaxis[i] >= 1420 and xaxis[i] <= 1421.5:\n",
    "        bool_filter[i] = False\n",
    "        \n",
    "interp_data = smoothed_cass[bool_filter]"
   ]
  },
  {
   "cell_type": "code",
   "execution_count": null,
   "metadata": {},
   "outputs": [],
   "source": [
    "xnew = xaxis[bool_filter]\n",
    "y = interp1d(xnew, interp_data, kind = 'cubic')\n",
    "\n",
    "centered_data = smoothed_cass - y(xaxis)\n",
    "\n",
    "plt.figure(figsize = (14, 8))\n",
    "plt.title('Centered Spectrum')\n",
    "plt.xlabel('Frequency')\n",
    "plt.ylabel('Power')\n",
    "plt.plot(xaxis, centered_data)"
   ]
  },
  {
   "cell_type": "markdown",
   "metadata": {},
   "source": [
    "# Putting it all Together"
   ]
  },
  {
   "cell_type": "code",
   "execution_count": null,
   "metadata": {},
   "outputs": [],
   "source": [
    "G = Gain(on_data, off_data)\n",
    "final_spec = G* centered_data\n",
    "\n",
    "plt.figure(figsize = (14, 8))\n",
    "plt.title('The Final Spectrum ')\n",
    "plt.xlabel('Frequency')\n",
    "plt.ylabel('Power [K]')\n",
    "plt.plot(xaxis, final_spec)"
   ]
  },
  {
   "cell_type": "code",
   "execution_count": null,
   "metadata": {},
   "outputs": [],
   "source": []
  }
 ],
 "metadata": {
  "kernelspec": {
   "display_name": "Python 3",
   "language": "python",
   "name": "python3"
  },
  "language_info": {
   "codemirror_mode": {
    "name": "ipython",
    "version": 3
   },
   "file_extension": ".py",
   "mimetype": "text/x-python",
   "name": "python",
   "nbconvert_exporter": "python",
   "pygments_lexer": "ipython3",
   "version": "3.7.1"
  }
 },
 "nbformat": 4,
 "nbformat_minor": 2
}
