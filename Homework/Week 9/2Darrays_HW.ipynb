{
 "cells": [
  {
   "cell_type": "markdown",
   "metadata": {},
   "source": [
    "# 2D Arrays and 2D Plotting"
   ]
  },
  {
   "cell_type": "markdown",
   "metadata": {},
   "source": [
    "## Review"
   ]
  },
  {
   "cell_type": "markdown",
   "metadata": {},
   "source": [
    "To get started with 2 dimensional arrays we start by importing numpy"
   ]
  },
  {
   "cell_type": "code",
   "execution_count": null,
   "metadata": {},
   "outputs": [],
   "source": [
    "import numpy as np"
   ]
  },
  {
   "cell_type": "markdown",
   "metadata": {},
   "source": [
    "Lets start with making a simple 2d array. The syntax for how to build a $2 \\times 2$ matrix is given in the cell below"
   ]
  },
  {
   "cell_type": "code",
   "execution_count": null,
   "metadata": {},
   "outputs": [],
   "source": [
    "twobytwo = np.array([[0,1], [2, 3]])"
   ]
  },
  {
   "cell_type": "markdown",
   "metadata": {},
   "source": [
    "This example can be extended to make a $3 \\times 3$ matrix. To do this we follow the same procedure as a $2 \\times 2$ matrix. Where each list element will be the row and the numbers in the list will go to the corresponding column. "
   ]
  },
  {
   "cell_type": "code",
   "execution_count": null,
   "metadata": {},
   "outputs": [],
   "source": [
    "threebythree = np.array([[1, 2, 3], [4, 5, 6], [7, 8, 9]])"
   ]
  },
  {
   "cell_type": "markdown",
   "metadata": {},
   "source": [
    "However these need not have the same rows and columns. These 2D arrays can have any arbitrary $n \\times m$ combination. The example below covers how to make a $2 \\times 3$ matrix and a $4 \\times 3$ matrix."
   ]
  },
  {
   "cell_type": "code",
   "execution_count": null,
   "metadata": {},
   "outputs": [],
   "source": [
    "twobythree = np.array([[1, 2, 3], [4, 5, 6]])\n",
    "\n",
    "fourbythree = np.array([[1, 2, 3], [4, 5, 6], [7, 8, 9], [10, 11, 12]])"
   ]
  },
  {
   "cell_type": "markdown",
   "metadata": {},
   "source": [
    "The main caveat to this type of 2D arrays is that you need to know before hand the matrix you want to make. There are times where we are asked to make $1000 \\times 1000$ matrix and writing that out by hand would be long and tedious. Luckily for us there are ways to do such a matrix as will be explained below."
   ]
  },
  {
   "cell_type": "markdown",
   "metadata": {},
   "source": [
    "As was covered in previous lecture there are multiple ways to create 1 dimensional arrays using built in Numpy functions.\n",
    "\n",
    "Some of the ones we have used were:\n",
    "\n",
    "* linspace\n",
    "* arange\n",
    "* zeros\n",
    "* ones\n",
    "\n",
    "Some of these same functions used to create 1 dimensional arrays can be extended to create 2-dimensional arrays. Here we show you different ways to make 2D arrays from the built in Numpy functions."
   ]
  },
  {
   "cell_type": "code",
   "execution_count": null,
   "metadata": {},
   "outputs": [],
   "source": [
    "twoDarray = np.zeros(16).reshape((4,4)) \n",
    "#########################################\n",
    "anotherway = np.zeros((4,4))"
   ]
  },
  {
   "cell_type": "markdown",
   "metadata": {},
   "source": [
    "So whats the difference between one and the other? In the end there is no difference as they both produce a $4 \\times 4$ matrix that we wanted to make. They simply differ only in approach. The first method makes a 1D arrays of zeros filled with 16 entries and the reshape function changes that 1D array and makes it into a shape with 4 rows and 4 columns $(4 \\times 4 = 16)$. The second method skips the 1D step and simply makes a $4 \\times 4$ matrix from the getgo. Whichever you use is completely up to you."
   ]
  },
  {
   "cell_type": "markdown",
   "metadata": {},
   "source": [
    "---"
   ]
  },
  {
   "cell_type": "markdown",
   "metadata": {},
   "source": [
    "Now for some this may be the first time that you are seeing this reshape function, so you might be asking yourself how exactly does it work? Or at the very least how do I use it? \n",
    "\n",
    "Well take the sample below:"
   ]
  },
  {
   "cell_type": "code",
   "execution_count": null,
   "metadata": {},
   "outputs": [],
   "source": [
    "oneDarray = np.arange(16)"
   ]
  },
  {
   "cell_type": "code",
   "execution_count": null,
   "metadata": {},
   "outputs": [],
   "source": [
    "oneDarray"
   ]
  },
  {
   "cell_type": "code",
   "execution_count": null,
   "metadata": {},
   "outputs": [],
   "source": [
    "nDarray = oneDarray.reshape((4,4))"
   ]
  },
  {
   "cell_type": "code",
   "execution_count": null,
   "metadata": {},
   "outputs": [],
   "source": [
    "nDarray"
   ]
  },
  {
   "cell_type": "code",
   "execution_count": null,
   "metadata": {},
   "outputs": [],
   "source": [
    "oneDarray_ex2 = np.arange(15)"
   ]
  },
  {
   "cell_type": "code",
   "execution_count": null,
   "metadata": {},
   "outputs": [],
   "source": [
    "nDarray_ex2 = oneDarray_ex2.reshape((5,3))\n",
    "#or\n",
    "nDarray_ex2_2 = oneDarray_ex2.reshape((3,5))"
   ]
  },
  {
   "cell_type": "code",
   "execution_count": null,
   "metadata": {},
   "outputs": [],
   "source": []
  },
  {
   "cell_type": "markdown",
   "metadata": {},
   "source": [
    "Another way to make 2D arrays is using Numpys function called vstack. What vstack does is that it takes two arrays of the same length and stackes them on top on each other creating a 2D array.\n",
    "\n",
    "Examples of this are shown below:"
   ]
  },
  {
   "cell_type": "code",
   "execution_count": null,
   "metadata": {},
   "outputs": [],
   "source": [
    "array1 = np.arange(5)\n",
    "array2 = np.arange(10,15)\n",
    "\n",
    "#making them into a 2D array using vstack\n",
    "vstack_array = np.vstack([array1, array2])\n",
    "#or\n",
    "vstack_array = np.vstack((array1, array2))"
   ]
  },
  {
   "cell_type": "markdown",
   "metadata": {},
   "source": [
    "# Indexing with 2D arrays\n",
    "\n",
    "With 1D arrays we sorted and sifted through it using splicing and indexing techniques. For example if we want to grab the 4th element of an array or list labeled q we simply use q[3] to retrieve it. Splicing and indexing for 2D arrays are not that different from 1D arrays. Just as we specified an index to retieve a value from an array we do the samew for 2D arrays but now we have two coordinates that we need to specify to get a value; namely the row and column where the value resides. "
   ]
  },
  {
   "cell_type": "code",
   "execution_count": null,
   "metadata": {},
   "outputs": [],
   "source": [
    "matrix = np.arange(1, 17).reshape((4,4))"
   ]
  },
  {
   "cell_type": "code",
   "execution_count": null,
   "metadata": {},
   "outputs": [],
   "source": [
    "matrix"
   ]
  },
  {
   "cell_type": "markdown",
   "metadata": {},
   "source": [
    "Lets say that we are interested in getting the number 6. To do this we would say go to the 2nd row and 2nd column and there it is. To do this in python we use the synatx shown below."
   ]
  },
  {
   "cell_type": "code",
   "execution_count": null,
   "metadata": {},
   "outputs": [],
   "source": [
    "matrix[1,1]"
   ]
  },
  {
   "cell_type": "markdown",
   "metadata": {},
   "source": [
    "Recall, that python indexing starts at 0 so the second item is actually index 1"
   ]
  },
  {
   "cell_type": "markdown",
   "metadata": {},
   "source": [
    "---"
   ]
  },
  {
   "cell_type": "markdown",
   "metadata": {},
   "source": [
    "Just as with list and array, we can use list and/or other arrays to index 2D arrays"
   ]
  },
  {
   "cell_type": "code",
   "execution_count": null,
   "metadata": {},
   "outputs": [],
   "source": [
    "row = [0, 1, 3]\n",
    "column = [1, 3, 1]\n",
    "\n",
    "matrix[row, column]"
   ]
  },
  {
   "cell_type": "markdown",
   "metadata": {},
   "source": [
    "# Splicing and Striding with 2D arrays"
   ]
  },
  {
   "cell_type": "markdown",
   "metadata": {},
   "source": [
    "Just as splicing was used in 1D arrays so to can splicing be done in 2D arrays.\n",
    "\n",
    "For example if we want to get the entire first row we would write in python:"
   ]
  },
  {
   "cell_type": "code",
   "execution_count": null,
   "metadata": {},
   "outputs": [],
   "source": [
    "matrix[0, :]"
   ]
  },
  {
   "cell_type": "markdown",
   "metadata": {},
   "source": [
    "To get the entire first column we would write:"
   ]
  },
  {
   "cell_type": "code",
   "execution_count": null,
   "metadata": {},
   "outputs": [],
   "source": [
    "matrix[:, 0]"
   ]
  },
  {
   "cell_type": "markdown",
   "metadata": {},
   "source": [
    "To get every other column we would write:"
   ]
  },
  {
   "cell_type": "code",
   "execution_count": null,
   "metadata": {},
   "outputs": [],
   "source": [
    "matrix[:,::2]"
   ]
  },
  {
   "cell_type": "markdown",
   "metadata": {},
   "source": [
    "To get every other row we would write:"
   ]
  },
  {
   "cell_type": "code",
   "execution_count": null,
   "metadata": {},
   "outputs": [],
   "source": [
    "matrix[::2, :]"
   ]
  },
  {
   "cell_type": "code",
   "execution_count": null,
   "metadata": {},
   "outputs": [],
   "source": [
    "matrix[:2,:2]"
   ]
  },
  {
   "cell_type": "code",
   "execution_count": null,
   "metadata": {},
   "outputs": [],
   "source": [
    "matrix[2:, 2:]"
   ]
  },
  {
   "cell_type": "markdown",
   "metadata": {},
   "source": [
    "Just as we are able to extract numbers from a 2D array we can also assign values onto them. Just specify the coordinates where you want the value to go, namely row and column"
   ]
  },
  {
   "cell_type": "code",
   "execution_count": null,
   "metadata": {},
   "outputs": [],
   "source": [
    "mat = np.zeros((4,4))"
   ]
  },
  {
   "cell_type": "code",
   "execution_count": null,
   "metadata": {},
   "outputs": [],
   "source": [
    "#lets assign to the 3rd column 2nd row the number 10\n",
    "#syntax for this will be\n",
    "\n",
    "mat[2,1] = 10"
   ]
  },
  {
   "cell_type": "markdown",
   "metadata": {},
   "source": [
    "Splicing and striding can also be used to assign values to a matrix"
   ]
  },
  {
   "cell_type": "code",
   "execution_count": null,
   "metadata": {},
   "outputs": [],
   "source": [
    "#lets assign to the upper left corner 1's\n",
    "mat[:2, :2] = 1\n",
    "\n",
    "#lets assign to the upper right corner 2's\n",
    "mat[:2, 2:] = 2\n",
    "\n",
    "#i'll leave it for you to put 3's in lower left corner and 4's in the lower right corner\n",
    "mat[,] = 3\n",
    "\n",
    "mat[,] = 4"
   ]
  },
  {
   "cell_type": "code",
   "execution_count": null,
   "metadata": {},
   "outputs": [],
   "source": []
  },
  {
   "cell_type": "markdown",
   "metadata": {},
   "source": [
    "---"
   ]
  },
  {
   "cell_type": "markdown",
   "metadata": {},
   "source": [
    "# Homework Section"
   ]
  },
  {
   "cell_type": "markdown",
   "metadata": {},
   "source": [
    "# 1 \n",
    "Create a $7 \\times 7$ matrix and fill it with a checkers patterns of 1 and 0 using splicing and striding. \n",
    "   Your output should look something like:\n",
    "   \n",
    "    \n",
    "    1 0 1 0 1 0 1 \n",
    "    0 1 0 1 0 1 0 \n",
    "    1 0 1 0 1 0 1 \n",
    "    0 1 0 1 0 1 0 \n",
    "    1 0 1 0 1 0 1 \n",
    "    0 1 0 1 0 1 0 \n",
    "    1 0 1 0 1 0 1 \n",
    "    \n",
    "    or \n",
    "    \n",
    "    0 1 0 1 0 1 0\n",
    "    1 0 1 0 1 0 1\n",
    "    0 1 0 1 0 1 0\n",
    "    1 0 1 0 1 0 1\n",
    "    0 1 0 1 0 1 0\n",
    "    1 0 1 0 1 0 1\n",
    "    0 1 0 1 0 1 0\n",
    "    "
   ]
  },
  {
   "cell_type": "code",
   "execution_count": null,
   "metadata": {},
   "outputs": [],
   "source": []
  },
  {
   "cell_type": "markdown",
   "metadata": {},
   "source": [
    "# 2 \n",
    "Create a $10 \\times 10$ array of zeros and then frame it with a border of ones."
   ]
  },
  {
   "cell_type": "code",
   "execution_count": null,
   "metadata": {},
   "outputs": [],
   "source": []
  },
  {
   "cell_type": "markdown",
   "metadata": {},
   "source": [
    "# 3 \n",
    "\n",
    "Recreate the following 2D array using any method we have learned.\n",
    "\n",
    "\n",
    "    2 2 0 0 0 0 2 2\n",
    "    2 0 5 5 5 5 0 2\n",
    "    0 5 0 5 0 5 5 0\n",
    "    0 5 0 5 0 5 5 0\n",
    "    0 5 5 5 5 0 5 0\n",
    "    0 5 0 0 0 5 5 0\n",
    "    2 0 5 5 5 5 0 2\n",
    "    2 2 0 0 0 0 2 2\n",
    "    \n",
    "Once you have produced this 2D array now plot the array. For this part use colormap Greys_r, set interpolation  to none. What do you see?"
   ]
  },
  {
   "cell_type": "code",
   "execution_count": null,
   "metadata": {},
   "outputs": [],
   "source": []
  },
  {
   "cell_type": "markdown",
   "metadata": {},
   "source": [
    "## Plotting"
   ]
  },
  {
   "cell_type": "markdown",
   "metadata": {},
   "source": [
    "Background and Motivation: With all they sky surveys providing the astronomical community with lots of data its very important to be able to read in and implement what they have gathered to uncover important information from these surveys. The fits file you will use in this problem comes from the Sloan Digital Sky Survey (SDSS) they essentially look at the sky and take photometric and spectroscopic data of patches of sky as a means to help us improve our understanding of stars and galaxies. If you're interested in learning more about SDSS and what they do you can go to this link and find out more: https://www.sdss.org/\n",
    "\n",
    "This will test your knowledge of how to read FITS headers to get information that is useful when plotting astronomical images.\n",
    "\n",
    "# 4. \n",
    "\n",
    "Download the Fits files labeled image.fits, once you have the file downloaded use imshow to plot the image inside the file. Also label your axis with real units and make the values sensible. In images like the one in this problem they are typically in (RA,DEC). You can find relevant information regarding the RA and DEC in the header. \n"
   ]
  },
  {
   "cell_type": "code",
   "execution_count": 2,
   "metadata": {},
   "outputs": [],
   "source": []
  },
  {
   "cell_type": "code",
   "execution_count": null,
   "metadata": {},
   "outputs": [],
   "source": []
  },
  {
   "cell_type": "markdown",
   "metadata": {},
   "source": [
    "Write with comments or markdown if you're using jupyter notebook describe what it is that you see in the image."
   ]
  },
  {
   "cell_type": "code",
   "execution_count": null,
   "metadata": {},
   "outputs": [],
   "source": []
  },
  {
   "cell_type": "code",
   "execution_count": 1,
   "metadata": {},
   "outputs": [],
   "source": []
  },
  {
   "cell_type": "code",
   "execution_count": null,
   "metadata": {},
   "outputs": [],
   "source": []
  }
 ],
 "metadata": {
  "kernelspec": {
   "display_name": "Python 3",
   "language": "python",
   "name": "python3"
  },
  "language_info": {
   "codemirror_mode": {
    "name": "ipython",
    "version": 3
   },
   "file_extension": ".py",
   "mimetype": "text/x-python",
   "name": "python",
   "nbconvert_exporter": "python",
   "pygments_lexer": "ipython3",
   "version": "3.7.1"
  }
 },
 "nbformat": 4,
 "nbformat_minor": 2
}
